{
 "cells": [
  {
   "cell_type": "markdown",
   "metadata": {},
   "source": [
    "## Примените всевозможные операции к данным множествам, выделяя различные подмножества\n",
    "накинем 2 балла\n",
    "\n",
    "<img src=\"images/set_food.png\" width=\"700\" height=\"700\">"
   ]
  },
  {
   "cell_type": "code",
   "execution_count": 9,
   "metadata": {},
   "outputs": [],
   "source": [
    "pizza = {\"dough\", \"tomatoes\", \"pepperoni\", \"ground pepper\", \"sweet basil\",\n",
    "         \"a lot of cheeeese\", \"onion\", \"garlic\", \"salt\", \"oregano\"}\n",
    "shaverma = {\"lavash\", \"cucumbers\", \"tomatoes\", \"sauce\", \"fried chicken\", \"onion\", \"cabbage\"}"
   ]
  },
  {
   "cell_type": "code",
   "execution_count": 10,
   "metadata": {},
   "outputs": [
    {
     "data": {
      "text/plain": [
       "{'onion', 'tomatoes'}"
      ]
     },
     "execution_count": 10,
     "metadata": {},
     "output_type": "execute_result"
    }
   ],
   "source": [
    "pizza.intersection(shaverma)  # shared ingredients"
   ]
  },
  {
   "cell_type": "code",
   "execution_count": 11,
   "metadata": {},
   "outputs": [
    {
     "data": {
      "text/plain": [
       "{'a lot of cheeeese',\n 'dough',\n 'garlic',\n 'ground pepper',\n 'oregano',\n 'pepperoni',\n 'salt',\n 'sweet basil'}"
      ]
     },
     "execution_count": 11,
     "metadata": {},
     "output_type": "execute_result"
    }
   ],
   "source": [
    "pizza.difference(shaverma)  # ingredients unique for pizza"
   ]
  },
  {
   "cell_type": "code",
   "execution_count": 12,
   "metadata": {},
   "outputs": [
    {
     "data": {
      "text/plain": [
       "{'cabbage', 'cucumbers', 'fried chicken', 'lavash', 'sauce'}"
      ]
     },
     "execution_count": 12,
     "metadata": {},
     "output_type": "execute_result"
    }
   ],
   "source": [
    "shaverma.difference(pizza)  # ingredients unique for shaverma"
   ]
  },
  {
   "cell_type": "code",
   "execution_count": 13,
   "metadata": {},
   "outputs": [
    {
     "data": {
      "text/plain": [
       "{'a lot of cheeeese',\n 'cabbage',\n 'cucumbers',\n 'dough',\n 'fried chicken',\n 'garlic',\n 'ground pepper',\n 'lavash',\n 'onion',\n 'oregano',\n 'pepperoni',\n 'salt',\n 'sauce',\n 'sweet basil',\n 'tomatoes'}"
      ]
     },
     "execution_count": 13,
     "metadata": {},
     "output_type": "execute_result"
    }
   ],
   "source": [
    "pizza.union(shaverma)  # ingredients used in pizza OR shaverma (as if we put a shaverma on a pizza and made a roll) "
   ]
  },
  {
   "cell_type": "code",
   "execution_count": 14,
   "metadata": {},
   "outputs": [
    {
     "data": {
      "text/plain": [
       "{'a lot of cheeeese',\n 'cabbage',\n 'cucumbers',\n 'dough',\n 'fried chicken',\n 'garlic',\n 'ground pepper',\n 'lavash',\n 'oregano',\n 'pepperoni',\n 'salt',\n 'sauce',\n 'sweet basil'}"
      ]
     },
     "execution_count": 14,
     "metadata": {},
     "output_type": "execute_result"
    }
   ],
   "source": [
    "pizza.symmetric_difference(shaverma)  # ingredients used in pizza or shaverma but not in both"
   ]
  },
  {
   "cell_type": "code",
   "execution_count": 15,
   "metadata": {},
   "outputs": [
    {
     "data": {
      "text/plain": [
       "{'a lot of cheeeese',\n 'cabbage',\n 'cucumbers',\n 'dough',\n 'fried chicken',\n 'garlic',\n 'ground pepper',\n 'lavash',\n 'oregano',\n 'pepperoni',\n 'salt',\n 'sauce',\n 'sweet basil'}"
      ]
     },
     "execution_count": 15,
     "metadata": {},
     "output_type": "execute_result"
    }
   ],
   "source": [
    "shaverma.symmetric_difference(pizza)  # same as above"
   ]
  },
  {
   "cell_type": "code",
   "execution_count": 17,
   "metadata": {},
   "outputs": [
    {
     "name": "stdout",
     "output_type": "stream",
     "text": [
      "False\nFalse\nFalse\n"
     ]
    }
   ],
   "source": [
    "print(pizza.issubset(shaverma))\n",
    "print(pizza.issuperset(shaverma))\n",
    "print(pizza.isdisjoint(shaverma))\n",
    "# pizza ingredients don't include all shaverma\n",
    "# ingredients and vice versa but they do have some\n",
    "# common ingredients"
   ]
  },
  {
   "cell_type": "code",
   "execution_count": 18,
   "metadata": {},
   "outputs": [
    {
     "name": "stdout",
     "output_type": "stream",
     "text": [
      "True\nTrue\n"
     ]
    }
   ],
   "source": [
    "# thus pizza and shaverma will be supersets\n",
    "# to their common ingredients\n",
    "common_ing = pizza.intersection(shaverma)\n",
    "print(pizza.issuperset(common_ing))\n",
    "print(shaverma.issuperset(common_ing))\n",
    "\n",
    "# that's all folks!\n"
   ]
  }
 ],
 "metadata": {
  "kernelspec": {
   "display_name": "Python 3",
   "language": "python",
   "name": "python3"
  },
  "language_info": {
   "codemirror_mode": {
    "name": "ipython",
    "version": 3
   },
   "file_extension": ".py",
   "mimetype": "text/x-python",
   "name": "python",
   "nbconvert_exporter": "python",
   "pygments_lexer": "ipython3",
   "version": "3.5.3"
  }
 },
 "nbformat": 4,
 "nbformat_minor": 2
}
